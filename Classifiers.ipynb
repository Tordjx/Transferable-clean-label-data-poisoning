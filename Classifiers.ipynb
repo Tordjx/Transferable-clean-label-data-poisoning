{
 "cells": [
  {
   "cell_type": "code",
   "execution_count": 1,
   "metadata": {
    "scrolled": true
   },
   "outputs": [],
   "source": [
    "import os \n",
    "os.environ[\"CUDA_VISIBLE_DEVICES\"]=\"0\"\n",
    "from lightning.pytorch.loggers import TensorBoardLogger\n",
    "import sys\n",
    "\n",
    "from lightning.pytorch.callbacks import StochasticWeightAveraging\n",
    "import glob\n",
    "import os\n",
    "import lightning as L\n",
    "sys.path.insert(0, \"/home/tordjx/DATA_DIR/config/projects/TRANSFERABLECLEANDATAPOISONING/lib/python/\")\n",
    "from customlib.dataloaders import CustomDataset\n",
    "data_dir = '/home/tordjx/DATA_DIR/managed_folders/TRANSFERABLECLEANDATAPOISONING/LMc8Smw6/'\n",
    "import timm\n",
    "import numpy as np\n",
    "import pandas as pd\n",
    "import skimage.io\n",
    "import matplotlib.pyplot as plt\n",
    "import torchmetrics\n",
    "import torch\n",
    "torch.manual_seed(0)\n",
    "import torch.nn as nn\n",
    "from torch.utils.data import Dataset, DataLoader\n",
    "from torchvision.transforms import Resize\n",
    "train_dataset = CustomDataset(data_dir, train=True, poison_dir = \"/home/tordjx/DATA_DIR/managed_folders/TRANSFERABLECLEANDATAPOISONING/BqfvFGr8\")\n",
    "test_dataset = CustomDataset(data_dir, train=False)\n",
    "\n",
    "# Create data loaders\n",
    "batch_size = 128\n",
    "train_loader = DataLoader(train_dataset, batch_size=batch_size, shuffle=True, num_workers = 19  )\n",
    "test_loader = DataLoader(test_dataset, batch_size=batch_size, shuffle=False, num_workers = 19)\n",
    "\n",
    "\n",
    "class ClassifierModel(L.LightningModule):\n",
    "    def __init__(self,encoder_name ,intermediate_size = 64, nclasses=43, lr = 5e-4, encoder_freeze = True):\n",
    "        super().__init__()\n",
    "        self.encoder_name  = encoder_name\n",
    "        self.encoder = timm.create_model(encoder_name, pretrained = True, num_classes=0)\n",
    "        self.encoder_freeze = encoder_freeze\n",
    "        if self.encoder_freeze : \n",
    "            for param in self.encoder.parameters():\n",
    "                param.requires_grad = False\n",
    "        feature_size = (self.encoder(torch.rand(2,3,128,128))).shape[-1]\n",
    "        self.decoder = nn.Linear(feature_size, intermediate_size)\n",
    "        self.classif = nn.Linear(intermediate_size, nclasses)\n",
    "        self.criterion = nn.CrossEntropyLoss()\n",
    "        self.lr = lr\n",
    "        self.metric = torchmetrics.Accuracy(task=\"multiclass\", num_classes=nclasses)\n",
    "    def training_step(self, batch, batch_idx):\n",
    "        x, y = batch\n",
    "        x_hat = self.forward(x)\n",
    "        loss = self.criterion(x_hat, y)\n",
    "        accuracy = self.metric(x_hat, y)\n",
    "        self.log(\"train_loss\", loss)\n",
    "        self.log('train_accuracy', accuracy)\n",
    "        return loss\n",
    "    def validation_step(self, batch, batch_idx):\n",
    "        x, y = batch\n",
    "        x_hat = self.forward(x)\n",
    "        loss = self.criterion(x_hat,y)\n",
    "        accuracy = self.metric(x_hat, y)\n",
    "        self.log(\"val_loss\", loss)\n",
    "        self.log('val_accuracy', accuracy)\n",
    "        return loss\n",
    "\n",
    "    def configure_optimizers(self):\n",
    "        optimizer = torch.optim.Adam(self.parameters(), lr=self.lr, weight_decay = 1e-5)\n",
    "        return optimizer\n",
    "    def forward(self, x):\n",
    "        if self.encoder_freeze : \n",
    "            with torch.no_grad():\n",
    "                x = self.encoder(x)\n",
    "        x = nn.functional.relu(self.decoder(x))\n",
    "        x = nn.functional.relu(self.classif(x))\n",
    "        return x\n"
   ]
  },
  {
   "cell_type": "code",
   "execution_count": 2,
   "metadata": {},
   "outputs": [
    {
     "data": {
      "text/plain": [
       "ERROR: Failed to launch TensorBoard (exited with 1).\n",
       "Contents of stderr:\n",
       "2024-01-06 20:44:40.829684: I tensorflow/core/util/port.cc:111] oneDNN custom operations are on. You may see slightly different numerical results due to floating-point round-off errors from different computation orders. To turn them off, set the environment variable `TF_ENABLE_ONEDNN_OPTS=0`.\n",
       "2024-01-06 20:44:40.830889: I tensorflow/tsl/cuda/cudart_stub.cc:28] Could not find cuda drivers on your machine, GPU will not be used.\n",
       "2024-01-06 20:44:40.848107: E tensorflow/compiler/xla/stream_executor/cuda/cuda_dnn.cc:9342] Unable to register cuDNN factory: Attempting to register factory for plugin cuDNN when one has already been registered\n",
       "2024-01-06 20:44:40.848134: E tensorflow/compiler/xla/stream_executor/cuda/cuda_fft.cc:609] Unable to register cuFFT factory: Attempting to register factory for plugin cuFFT when one has already been registered\n",
       "2024-01-06 20:44:40.848147: E tensorflow/compiler/xla/stream_executor/cuda/cuda_blas.cc:1518] Unable to register cuBLAS factory: Attempting to register factory for plugin cuBLAS when one has already been registered\n",
       "2024-01-06 20:44:40.851392: I tensorflow/tsl/cuda/cudart_stub.cc:28] Could not find cuda drivers on your machine, GPU will not be used.\n",
       "2024-01-06 20:44:40.851511: I tensorflow/core/platform/cpu_feature_guard.cc:182] This TensorFlow binary is optimized to use available CPU instructions in performance-critical operations.\n",
       "To enable the following instructions: AVX2 AVX_VNNI FMA, in other operations, rebuild TensorFlow with the appropriate compiler flags.\n",
       "2024-01-06 20:44:41.194236: W tensorflow/compiler/tf2tensorrt/utils/py_utils.cc:38] TF-TRT Warning: Could not find TensorRT\n",
       "2024-01-06 20:44:42.241106: I tensorflow/compiler/xla/stream_executor/cuda/cuda_gpu_executor.cc:894] successful NUMA node read from SysFS had negative value (-1), but there must be at least one NUMA node, so returning NUMA node zero. See more at https://github.com/torvalds/linux/blob/v6.0/Documentation/ABI/testing/sysfs-bus-pci#L344-L355\n",
       "2024-01-06 20:44:42.258180: W tensorflow/core/common_runtime/gpu/gpu_device.cc:2211] Cannot dlopen some GPU libraries. Please make sure the missing libraries mentioned above are installed properly if you would like to use GPU. Follow the guide at https://www.tensorflow.org/install/gpu for how to download and setup the required libraries for your platform.\n",
       "Skipping registering GPU devices...\n",
       "\n",
       "NOTE: Using experimental fast data loading logic. To disable, pass\n",
       "    \"--load_fast=false\" and report issues on GitHub. More details:\n",
       "    https://github.com/tensorflow/tensorboard/issues/4784\n",
       "\n",
       "Address already in use\n",
       "Port 6006 is in use by another program. Either identify and stop that program, or start the server with a different port."
      ]
     },
     "metadata": {},
     "output_type": "display_data"
    },
    {
     "name": "stderr",
     "output_type": "stream",
     "text": [
      "GPU available: True (cuda), used: True\n",
      "TPU available: False, using: 0 TPU cores\n",
      "IPU available: False, using: 0 IPUs\n",
      "HPU available: False, using: 0 HPUs\n",
      "`Trainer(val_check_interval=1.0)` was configured so validation will run at the end of the training epoch..\n",
      "Missing logger folder: lightning_logs/resnet34 , sans poison\n",
      "2024-01-06 20:44:43.763834: I tensorflow/core/util/port.cc:111] oneDNN custom operations are on. You may see slightly different numerical results due to floating-point round-off errors from different computation orders. To turn them off, set the environment variable `TF_ENABLE_ONEDNN_OPTS=0`.\n",
      "2024-01-06 20:44:43.765014: I tensorflow/tsl/cuda/cudart_stub.cc:28] Could not find cuda drivers on your machine, GPU will not be used.\n",
      "2024-01-06 20:44:43.781142: E tensorflow/compiler/xla/stream_executor/cuda/cuda_dnn.cc:9342] Unable to register cuDNN factory: Attempting to register factory for plugin cuDNN when one has already been registered\n",
      "2024-01-06 20:44:43.781158: E tensorflow/compiler/xla/stream_executor/cuda/cuda_fft.cc:609] Unable to register cuFFT factory: Attempting to register factory for plugin cuFFT when one has already been registered\n",
      "2024-01-06 20:44:43.781170: E tensorflow/compiler/xla/stream_executor/cuda/cuda_blas.cc:1518] Unable to register cuBLAS factory: Attempting to register factory for plugin cuBLAS when one has already been registered\n",
      "2024-01-06 20:44:43.784732: I tensorflow/core/platform/cpu_feature_guard.cc:182] This TensorFlow binary is optimized to use available CPU instructions in performance-critical operations.\n",
      "To enable the following instructions: AVX2 AVX_VNNI FMA, in other operations, rebuild TensorFlow with the appropriate compiler flags.\n",
      "2024-01-06 20:44:44.165281: W tensorflow/compiler/tf2tensorrt/utils/py_utils.cc:38] TF-TRT Warning: Could not find TensorRT\n",
      "LOCAL_RANK: 0 - CUDA_VISIBLE_DEVICES: [0]\n",
      "\n",
      "  | Name      | Type               | Params\n",
      "-------------------------------------------------\n",
      "0 | encoder   | ResNet             | 21.3 M\n",
      "1 | decoder   | Linear             | 32.8 K\n",
      "2 | classif   | Linear             | 2.8 K \n",
      "3 | criterion | CrossEntropyLoss   | 0     \n",
      "4 | metric    | MulticlassAccuracy | 0     \n",
      "-------------------------------------------------\n",
      "35.6 K    Trainable params\n",
      "21.3 M    Non-trainable params\n",
      "21.3 M    Total params\n",
      "85.281    Total estimated model params size (MB)\n"
     ]
    },
    {
     "data": {
      "application/vnd.jupyter.widget-view+json": {
       "model_id": "a6044dfd97ce41dcb7f09736f2d4ecfa",
       "version_major": 2,
       "version_minor": 0
      },
      "text/plain": [
       "Sanity Checking: |          | 0/? [00:00<?, ?it/s]"
      ]
     },
     "metadata": {},
     "output_type": "display_data"
    },
    {
     "data": {
      "application/vnd.jupyter.widget-view+json": {
       "model_id": "21c2308a70f24eefb095cfb19e20eed0",
       "version_major": 2,
       "version_minor": 0
      },
      "text/plain": [
       "Training: |          | 0/? [00:00<?, ?it/s]"
      ]
     },
     "metadata": {},
     "output_type": "display_data"
    },
    {
     "data": {
      "application/vnd.jupyter.widget-view+json": {
       "model_id": "7d37910ba2f14888807acfb77e8e3cda",
       "version_major": 2,
       "version_minor": 0
      },
      "text/plain": [
       "Validation: |          | 0/? [00:00<?, ?it/s]"
      ]
     },
     "metadata": {},
     "output_type": "display_data"
    },
    {
     "data": {
      "application/vnd.jupyter.widget-view+json": {
       "model_id": "aab2cb33234f43b48ff0185c90e88178",
       "version_major": 2,
       "version_minor": 0
      },
      "text/plain": [
       "Validation: |          | 0/? [00:00<?, ?it/s]"
      ]
     },
     "metadata": {},
     "output_type": "display_data"
    },
    {
     "data": {
      "application/vnd.jupyter.widget-view+json": {
       "model_id": "08e3035aca2e43d09ced47a66af03345",
       "version_major": 2,
       "version_minor": 0
      },
      "text/plain": [
       "Validation: |          | 0/? [00:00<?, ?it/s]"
      ]
     },
     "metadata": {},
     "output_type": "display_data"
    },
    {
     "data": {
      "application/vnd.jupyter.widget-view+json": {
       "model_id": "52e08250280345099ebf4ff416ceb20f",
       "version_major": 2,
       "version_minor": 0
      },
      "text/plain": [
       "Validation: |          | 0/? [00:00<?, ?it/s]"
      ]
     },
     "metadata": {},
     "output_type": "display_data"
    },
    {
     "data": {
      "application/vnd.jupyter.widget-view+json": {
       "model_id": "2ca363d1f84a47eb9e9df4706c7b8cdf",
       "version_major": 2,
       "version_minor": 0
      },
      "text/plain": [
       "Validation: |          | 0/? [00:00<?, ?it/s]"
      ]
     },
     "metadata": {},
     "output_type": "display_data"
    },
    {
     "name": "stderr",
     "output_type": "stream",
     "text": [
      "`Trainer.fit` stopped: `max_epochs=5` reached.\n",
      "GPU available: True (cuda), used: True\n",
      "TPU available: False, using: 0 TPU cores\n",
      "IPU available: False, using: 0 IPUs\n",
      "HPU available: False, using: 0 HPUs\n",
      "`Trainer(val_check_interval=1.0)` was configured so validation will run at the end of the training epoch..\n",
      "Missing logger folder: lightning_logs/resnet34 , poison , 4000 poisons\n",
      "LOCAL_RANK: 0 - CUDA_VISIBLE_DEVICES: [0]\n",
      "\n",
      "  | Name      | Type               | Params\n",
      "-------------------------------------------------\n",
      "0 | encoder   | ResNet             | 21.3 M\n",
      "1 | decoder   | Linear             | 32.8 K\n",
      "2 | classif   | Linear             | 2.8 K \n",
      "3 | criterion | CrossEntropyLoss   | 0     \n",
      "4 | metric    | MulticlassAccuracy | 0     \n",
      "-------------------------------------------------\n",
      "35.6 K    Trainable params\n",
      "21.3 M    Non-trainable params\n",
      "21.3 M    Total params\n",
      "85.281    Total estimated model params size (MB)\n"
     ]
    },
    {
     "data": {
      "application/vnd.jupyter.widget-view+json": {
       "model_id": "7983c9a6a5a0479ebf40d893c0bced92",
       "version_major": 2,
       "version_minor": 0
      },
      "text/plain": [
       "Sanity Checking: |          | 0/? [00:00<?, ?it/s]"
      ]
     },
     "metadata": {},
     "output_type": "display_data"
    },
    {
     "data": {
      "application/vnd.jupyter.widget-view+json": {
       "model_id": "bfeceaea597e4eb4b1df3555f61d57ab",
       "version_major": 2,
       "version_minor": 0
      },
      "text/plain": [
       "Training: |          | 0/? [00:00<?, ?it/s]"
      ]
     },
     "metadata": {},
     "output_type": "display_data"
    },
    {
     "data": {
      "application/vnd.jupyter.widget-view+json": {
       "model_id": "72bde848605143d48c07a2702f60fed7",
       "version_major": 2,
       "version_minor": 0
      },
      "text/plain": [
       "Validation: |          | 0/? [00:00<?, ?it/s]"
      ]
     },
     "metadata": {},
     "output_type": "display_data"
    },
    {
     "data": {
      "application/vnd.jupyter.widget-view+json": {
       "model_id": "b162c7f019504102a452e6966c037104",
       "version_major": 2,
       "version_minor": 0
      },
      "text/plain": [
       "Validation: |          | 0/? [00:00<?, ?it/s]"
      ]
     },
     "metadata": {},
     "output_type": "display_data"
    },
    {
     "data": {
      "application/vnd.jupyter.widget-view+json": {
       "model_id": "84b6c5434d564b16bfd865eb7f9a0d46",
       "version_major": 2,
       "version_minor": 0
      },
      "text/plain": [
       "Validation: |          | 0/? [00:00<?, ?it/s]"
      ]
     },
     "metadata": {},
     "output_type": "display_data"
    },
    {
     "data": {
      "application/vnd.jupyter.widget-view+json": {
       "model_id": "8ee6c4c078c4457c98a83aee6ec2dbff",
       "version_major": 2,
       "version_minor": 0
      },
      "text/plain": [
       "Validation: |          | 0/? [00:00<?, ?it/s]"
      ]
     },
     "metadata": {},
     "output_type": "display_data"
    },
    {
     "data": {
      "application/vnd.jupyter.widget-view+json": {
       "model_id": "45c7fe5dc2b242558f6030ba88980b77",
       "version_major": 2,
       "version_minor": 0
      },
      "text/plain": [
       "Validation: |          | 0/? [00:00<?, ?it/s]"
      ]
     },
     "metadata": {},
     "output_type": "display_data"
    },
    {
     "name": "stderr",
     "output_type": "stream",
     "text": [
      "`Trainer.fit` stopped: `max_epochs=5` reached.\n",
      "GPU available: True (cuda), used: True\n",
      "TPU available: False, using: 0 TPU cores\n",
      "IPU available: False, using: 0 IPUs\n",
      "HPU available: False, using: 0 HPUs\n",
      "`Trainer(val_check_interval=1.0)` was configured so validation will run at the end of the training epoch..\n",
      "Missing logger folder: lightning_logs/resnet34 , poison ,  20000 poisons\n",
      "LOCAL_RANK: 0 - CUDA_VISIBLE_DEVICES: [0]\n",
      "\n",
      "  | Name      | Type               | Params\n",
      "-------------------------------------------------\n",
      "0 | encoder   | ResNet             | 21.3 M\n",
      "1 | decoder   | Linear             | 32.8 K\n",
      "2 | classif   | Linear             | 2.8 K \n",
      "3 | criterion | CrossEntropyLoss   | 0     \n",
      "4 | metric    | MulticlassAccuracy | 0     \n",
      "-------------------------------------------------\n",
      "35.6 K    Trainable params\n",
      "21.3 M    Non-trainable params\n",
      "21.3 M    Total params\n",
      "85.281    Total estimated model params size (MB)\n"
     ]
    },
    {
     "data": {
      "application/vnd.jupyter.widget-view+json": {
       "model_id": "2d2481c766a347378359b0f820ebf1b3",
       "version_major": 2,
       "version_minor": 0
      },
      "text/plain": [
       "Sanity Checking: |          | 0/? [00:00<?, ?it/s]"
      ]
     },
     "metadata": {},
     "output_type": "display_data"
    },
    {
     "data": {
      "application/vnd.jupyter.widget-view+json": {
       "model_id": "8590bcbaa3844cdc9dac7bc8e43c6182",
       "version_major": 2,
       "version_minor": 0
      },
      "text/plain": [
       "Training: |          | 0/? [00:00<?, ?it/s]"
      ]
     },
     "metadata": {},
     "output_type": "display_data"
    },
    {
     "data": {
      "application/vnd.jupyter.widget-view+json": {
       "model_id": "4c6405d60ad54051bf5340f27061a53a",
       "version_major": 2,
       "version_minor": 0
      },
      "text/plain": [
       "Validation: |          | 0/? [00:00<?, ?it/s]"
      ]
     },
     "metadata": {},
     "output_type": "display_data"
    },
    {
     "data": {
      "application/vnd.jupyter.widget-view+json": {
       "model_id": "3ceebec0d0df4150a386fbff99da684d",
       "version_major": 2,
       "version_minor": 0
      },
      "text/plain": [
       "Validation: |          | 0/? [00:00<?, ?it/s]"
      ]
     },
     "metadata": {},
     "output_type": "display_data"
    },
    {
     "data": {
      "application/vnd.jupyter.widget-view+json": {
       "model_id": "9fee48aac3cc4a7899d63e1d73398a94",
       "version_major": 2,
       "version_minor": 0
      },
      "text/plain": [
       "Validation: |          | 0/? [00:00<?, ?it/s]"
      ]
     },
     "metadata": {},
     "output_type": "display_data"
    },
    {
     "data": {
      "application/vnd.jupyter.widget-view+json": {
       "model_id": "683efd96607a489da73102eb80ce51ee",
       "version_major": 2,
       "version_minor": 0
      },
      "text/plain": [
       "Validation: |          | 0/? [00:00<?, ?it/s]"
      ]
     },
     "metadata": {},
     "output_type": "display_data"
    },
    {
     "data": {
      "application/vnd.jupyter.widget-view+json": {
       "model_id": "a34e25f480fa472b84f6c4d1a081476c",
       "version_major": 2,
       "version_minor": 0
      },
      "text/plain": [
       "Validation: |          | 0/? [00:00<?, ?it/s]"
      ]
     },
     "metadata": {},
     "output_type": "display_data"
    },
    {
     "name": "stderr",
     "output_type": "stream",
     "text": [
      "`Trainer.fit` stopped: `max_epochs=5` reached.\n",
      "GPU available: True (cuda), used: True\n",
      "TPU available: False, using: 0 TPU cores\n",
      "IPU available: False, using: 0 IPUs\n",
      "HPU available: False, using: 0 HPUs\n",
      "`Trainer(val_check_interval=1.0)` was configured so validation will run at the end of the training epoch..\n",
      "Missing logger folder: lightning_logs/resnet34 , poison\n",
      "LOCAL_RANK: 0 - CUDA_VISIBLE_DEVICES: [0]\n",
      "\n",
      "  | Name      | Type               | Params\n",
      "-------------------------------------------------\n",
      "0 | encoder   | ResNet             | 21.3 M\n",
      "1 | decoder   | Linear             | 32.8 K\n",
      "2 | classif   | Linear             | 2.8 K \n",
      "3 | criterion | CrossEntropyLoss   | 0     \n",
      "4 | metric    | MulticlassAccuracy | 0     \n",
      "-------------------------------------------------\n",
      "35.6 K    Trainable params\n",
      "21.3 M    Non-trainable params\n",
      "21.3 M    Total params\n",
      "85.281    Total estimated model params size (MB)\n"
     ]
    },
    {
     "data": {
      "application/vnd.jupyter.widget-view+json": {
       "model_id": "17d67c138d6144898549427aaad31e12",
       "version_major": 2,
       "version_minor": 0
      },
      "text/plain": [
       "Sanity Checking: |          | 0/? [00:00<?, ?it/s]"
      ]
     },
     "metadata": {},
     "output_type": "display_data"
    },
    {
     "data": {
      "application/vnd.jupyter.widget-view+json": {
       "model_id": "a460b7cb2b28490fa45ecc10356cae7c",
       "version_major": 2,
       "version_minor": 0
      },
      "text/plain": [
       "Training: |          | 0/? [00:00<?, ?it/s]"
      ]
     },
     "metadata": {},
     "output_type": "display_data"
    },
    {
     "data": {
      "application/vnd.jupyter.widget-view+json": {
       "model_id": "50ecbb3c1d0a4176b49f486edd5d121a",
       "version_major": 2,
       "version_minor": 0
      },
      "text/plain": [
       "Validation: |          | 0/? [00:00<?, ?it/s]"
      ]
     },
     "metadata": {},
     "output_type": "display_data"
    },
    {
     "data": {
      "application/vnd.jupyter.widget-view+json": {
       "model_id": "ae389ba570194191908af0f38bdf868c",
       "version_major": 2,
       "version_minor": 0
      },
      "text/plain": [
       "Validation: |          | 0/? [00:00<?, ?it/s]"
      ]
     },
     "metadata": {},
     "output_type": "display_data"
    },
    {
     "data": {
      "application/vnd.jupyter.widget-view+json": {
       "model_id": "850bbfdac59d44098e874086f67bf164",
       "version_major": 2,
       "version_minor": 0
      },
      "text/plain": [
       "Validation: |          | 0/? [00:00<?, ?it/s]"
      ]
     },
     "metadata": {},
     "output_type": "display_data"
    },
    {
     "data": {
      "application/vnd.jupyter.widget-view+json": {
       "model_id": "96bdda28d34f4dac92a2ee3af3e93de8",
       "version_major": 2,
       "version_minor": 0
      },
      "text/plain": [
       "Validation: |          | 0/? [00:00<?, ?it/s]"
      ]
     },
     "metadata": {},
     "output_type": "display_data"
    },
    {
     "data": {
      "application/vnd.jupyter.widget-view+json": {
       "model_id": "e2131146c48048f68f67ad2658a163a8",
       "version_major": 2,
       "version_minor": 0
      },
      "text/plain": [
       "Validation: |          | 0/? [00:00<?, ?it/s]"
      ]
     },
     "metadata": {},
     "output_type": "display_data"
    },
    {
     "name": "stderr",
     "output_type": "stream",
     "text": [
      "`Trainer.fit` stopped: `max_epochs=5` reached.\n"
     ]
    }
   ],
   "source": [
    "encoder_name = \"resnet34\"\n",
    "os.environ[\"TENSORBOARD_BINARY\"]=\"/home/tordjx/DATA_DIR/code-envs/python/rapids/bin/tensorboard\"\n",
    "%reload_ext tensorboard\n",
    "%tensorboard --logdir=lightning_logs/\n",
    "#CLEAN\n",
    "train_dataset = CustomDataset(data_dir, train=True)#,poison_dir = \"/home/tordjx/DATA_DIR/managed_folders/TRANSFERABLECLEANDATAPOISONING/BqfvFGr8\")\n",
    "train_loader = DataLoader(train_dataset, batch_size=batch_size, shuffle=True, num_workers = 19  )\n",
    "encoder_freeze = True\n",
    "is_poisonned = \"poison\" if train_dataset.poison_dir != None else \"sans poison\"\n",
    "log_name = encoder_name + \" , \"+ is_poisonned+ \"\" \n",
    "logger = TensorBoardLogger(\"lightning_logs/\", name=log_name)\n",
    "trainer = L.Trainer(max_epochs=5,val_check_interval = 1.0, devices = 1,logger=logger)\n",
    "classifier = ClassifierModel(encoder_name = encoder_name, encoder_freeze = encoder_freeze)\n",
    "trainer.fit(model=classifier, train_dataloaders=train_loader, val_dataloaders = test_loader)\n",
    "#10%\n",
    "train_dataset = CustomDataset(data_dir, train=True, poison_num = 4000,poison_dir = \"/home/tordjx/DATA_DIR/managed_folders/TRANSFERABLECLEANDATAPOISONING/BqfvFGr8\")\n",
    "train_loader = DataLoader(train_dataset, batch_size=batch_size, shuffle=True, num_workers = 19  )\n",
    "encoder_freeze = True\n",
    "is_poisonned = \"poison\" if train_dataset.poison_dir != None else \"sans poison\"\n",
    "log_name = encoder_name + \" , \"+ is_poisonned+ \" , 4000 poisons\" \n",
    "logger = TensorBoardLogger(\"lightning_logs/\", name=log_name)\n",
    "trainer = L.Trainer(max_epochs=5,val_check_interval = 1.0, devices = 1,logger=logger)\n",
    "classifier = ClassifierModel(encoder_name = encoder_name, encoder_freeze = encoder_freeze)\n",
    "trainer.fit(model=classifier, train_dataloaders=train_loader, val_dataloaders = test_loader)\n",
    "#50%\n",
    "train_dataset = CustomDataset(data_dir, train=True, poison_num = 20000,poison_dir = \"/home/tordjx/DATA_DIR/managed_folders/TRANSFERABLECLEANDATAPOISONING/BqfvFGr8\")\n",
    "train_loader = DataLoader(train_dataset, batch_size=batch_size, shuffle=True, num_workers = 19  )\n",
    "encoder_freeze = True\n",
    "is_poisonned = \"poison\" if train_dataset.poison_dir != None else \"sans poison\"\n",
    "log_name = encoder_name + \" , \"+ is_poisonned+ \" ,  20000 poisons\" \n",
    "logger = TensorBoardLogger(\"lightning_logs/\", name=log_name)\n",
    "trainer = L.Trainer(max_epochs=5,val_check_interval = 1.0, devices = 1,logger=logger)\n",
    "classifier = ClassifierModel(encoder_name = encoder_name, encoder_freeze = encoder_freeze)\n",
    "trainer.fit(model=classifier, train_dataloaders=train_loader, val_dataloaders = test_loader)\n",
    "#100%\n",
    "train_dataset = CustomDataset(data_dir, train=True, poison_dir = \"/home/tordjx/DATA_DIR/managed_folders/TRANSFERABLECLEANDATAPOISONING/BqfvFGr8\")\n",
    "train_loader = DataLoader(train_dataset, batch_size=batch_size, shuffle=True, num_workers = 19  )\n",
    "encoder_freeze = True\n",
    "is_poisonned = \"poison\" if train_dataset.poison_dir != None else \"sans poison\"\n",
    "log_name = encoder_name + \" , \"+ is_poisonned+ \"\" \n",
    "logger = TensorBoardLogger(\"lightning_logs/\", name=log_name)\n",
    "trainer = L.Trainer(max_epochs=5,val_check_interval = 1.0, devices = 1,logger=logger)\n",
    "classifier = ClassifierModel(encoder_name = encoder_name, encoder_freeze = encoder_freeze)\n",
    "trainer.fit(model=classifier, train_dataloaders=train_loader, val_dataloaders = test_loader)"
   ]
  },
  {
   "cell_type": "code",
   "execution_count": 3,
   "metadata": {},
   "outputs": [
    {
     "data": {
      "text/html": [
       "\n",
       "      <iframe id=\"tensorboard-frame-3ec78ffaa1f10024\" width=\"100%\" height=\"800\" frameborder=\"0\">\n",
       "      </iframe>\n",
       "      <script>\n",
       "        (function() {\n",
       "          const frame = document.getElementById(\"tensorboard-frame-3ec78ffaa1f10024\");\n",
       "          const url = new URL(\"/\", window.location);\n",
       "          const port = 6006;\n",
       "          if (port) {\n",
       "            url.port = port;\n",
       "          }\n",
       "          frame.src = url;\n",
       "        })();\n",
       "      </script>\n",
       "    "
      ],
      "text/plain": [
       "<IPython.core.display.HTML object>"
      ]
     },
     "metadata": {},
     "output_type": "display_data"
    }
   ],
   "source": [
    "os.environ[\"TENSORBOARD_BINARY\"]=\"/home/tordjx/DATA_DIR/code-envs/python/rapids/bin/tensorboard\"\n",
    "%reload_ext tensorboard\n",
    "%tensorboard --logdir=lightning_logs/"
   ]
  },
  {
   "cell_type": "code",
   "execution_count": 3,
   "metadata": {},
   "outputs": [
    {
     "data": {
      "text/plain": [
       "Reusing TensorBoard on port 6006 (pid 491720), started 0:47:50 ago. (Use '!kill 491720' to kill it.)"
      ]
     },
     "metadata": {},
     "output_type": "display_data"
    },
    {
     "data": {
      "text/html": [
       "\n",
       "      <iframe id=\"tensorboard-frame-150d68740c55dc1d\" width=\"100%\" height=\"800\" frameborder=\"0\">\n",
       "      </iframe>\n",
       "      <script>\n",
       "        (function() {\n",
       "          const frame = document.getElementById(\"tensorboard-frame-150d68740c55dc1d\");\n",
       "          const url = new URL(\"/\", window.location);\n",
       "          const port = 6006;\n",
       "          if (port) {\n",
       "            url.port = port;\n",
       "          }\n",
       "          frame.src = url;\n",
       "        })();\n",
       "      </script>\n",
       "    "
      ],
      "text/plain": [
       "<IPython.core.display.HTML object>"
      ]
     },
     "metadata": {},
     "output_type": "display_data"
    },
    {
     "name": "stderr",
     "output_type": "stream",
     "text": [
      "GPU available: True (cuda), used: True\n",
      "TPU available: False, using: 0 TPU cores\n",
      "IPU available: False, using: 0 IPUs\n",
      "HPU available: False, using: 0 HPUs\n",
      "`Trainer(val_check_interval=1.0)` was configured so validation will run at the end of the training epoch..\n"
     ]
    },
    {
     "data": {
      "application/vnd.jupyter.widget-view+json": {
       "model_id": "22718a98d85441229617126761c66e4c",
       "version_major": 2,
       "version_minor": 0
      },
      "text/plain": [
       "model.safetensors:   0%|          | 0.00/84.9M [00:00<?, ?B/s]"
      ]
     },
     "metadata": {},
     "output_type": "display_data"
    },
    {
     "name": "stderr",
     "output_type": "stream",
     "text": [
      "Missing logger folder: lightning_logs/tiny_vit_21m_224.dist_in22k_ft_in1k , sans poison 5 backbones, white box\n",
      "LOCAL_RANK: 0 - CUDA_VISIBLE_DEVICES: [0,1]\n",
      "\n",
      "  | Name      | Type               | Params\n",
      "-------------------------------------------------\n",
      "0 | encoder   | TinyVit            | 20.6 M\n",
      "1 | decoder   | Linear             | 36.9 K\n",
      "2 | classif   | Linear             | 2.8 K \n",
      "3 | criterion | CrossEntropyLoss   | 0     \n",
      "4 | metric    | MulticlassAccuracy | 0     \n",
      "-------------------------------------------------\n",
      "39.7 K    Trainable params\n",
      "20.6 M    Non-trainable params\n",
      "20.7 M    Total params\n",
      "82.645    Total estimated model params size (MB)\n"
     ]
    },
    {
     "data": {
      "application/vnd.jupyter.widget-view+json": {
       "model_id": "9eec20e3af784fee8be4e58a50f1e22a",
       "version_major": 2,
       "version_minor": 0
      },
      "text/plain": [
       "Sanity Checking: |          | 0/? [00:00<?, ?it/s]"
      ]
     },
     "metadata": {},
     "output_type": "display_data"
    },
    {
     "data": {
      "application/vnd.jupyter.widget-view+json": {
       "model_id": "912cbcac28f141c09f11f540c4bfb176",
       "version_major": 2,
       "version_minor": 0
      },
      "text/plain": [
       "Training: |          | 0/? [00:00<?, ?it/s]"
      ]
     },
     "metadata": {},
     "output_type": "display_data"
    },
    {
     "data": {
      "application/vnd.jupyter.widget-view+json": {
       "model_id": "7ae3fa40f5594c909ae45a188f93523e",
       "version_major": 2,
       "version_minor": 0
      },
      "text/plain": [
       "Validation: |          | 0/? [00:00<?, ?it/s]"
      ]
     },
     "metadata": {},
     "output_type": "display_data"
    },
    {
     "data": {
      "application/vnd.jupyter.widget-view+json": {
       "model_id": "695c8c26e66a417eabc918d917b2dd71",
       "version_major": 2,
       "version_minor": 0
      },
      "text/plain": [
       "Validation: |          | 0/? [00:00<?, ?it/s]"
      ]
     },
     "metadata": {},
     "output_type": "display_data"
    },
    {
     "data": {
      "application/vnd.jupyter.widget-view+json": {
       "model_id": "6119f7205ef14cedbcb4bfb5f68e96f6",
       "version_major": 2,
       "version_minor": 0
      },
      "text/plain": [
       "Validation: |          | 0/? [00:00<?, ?it/s]"
      ]
     },
     "metadata": {},
     "output_type": "display_data"
    },
    {
     "data": {
      "application/vnd.jupyter.widget-view+json": {
       "model_id": "20f61fb19e1c41ffbd255063e31d9a10",
       "version_major": 2,
       "version_minor": 0
      },
      "text/plain": [
       "Validation: |          | 0/? [00:00<?, ?it/s]"
      ]
     },
     "metadata": {},
     "output_type": "display_data"
    },
    {
     "data": {
      "application/vnd.jupyter.widget-view+json": {
       "model_id": "f39741f670f941dfa870b3b5eb95e5a2",
       "version_major": 2,
       "version_minor": 0
      },
      "text/plain": [
       "Validation: |          | 0/? [00:00<?, ?it/s]"
      ]
     },
     "metadata": {},
     "output_type": "display_data"
    },
    {
     "name": "stderr",
     "output_type": "stream",
     "text": [
      "`Trainer.fit` stopped: `max_epochs=5` reached.\n",
      "GPU available: True (cuda), used: True\n",
      "TPU available: False, using: 0 TPU cores\n",
      "IPU available: False, using: 0 IPUs\n",
      "HPU available: False, using: 0 HPUs\n",
      "`Trainer(val_check_interval=1.0)` was configured so validation will run at the end of the training epoch..\n",
      "Missing logger folder: lightning_logs/tiny_vit_21m_224.dist_in22k_ft_in1k , poison 5 backbones, white box, 4000 poisons\n",
      "LOCAL_RANK: 0 - CUDA_VISIBLE_DEVICES: [0,1]\n",
      "\n",
      "  | Name      | Type               | Params\n",
      "-------------------------------------------------\n",
      "0 | encoder   | TinyVit            | 20.6 M\n",
      "1 | decoder   | Linear             | 36.9 K\n",
      "2 | classif   | Linear             | 2.8 K \n",
      "3 | criterion | CrossEntropyLoss   | 0     \n",
      "4 | metric    | MulticlassAccuracy | 0     \n",
      "-------------------------------------------------\n",
      "39.7 K    Trainable params\n",
      "20.6 M    Non-trainable params\n",
      "20.7 M    Total params\n",
      "82.645    Total estimated model params size (MB)\n"
     ]
    },
    {
     "data": {
      "application/vnd.jupyter.widget-view+json": {
       "model_id": "f37ea935ae07424b9736ec3fda9b5621",
       "version_major": 2,
       "version_minor": 0
      },
      "text/plain": [
       "Sanity Checking: |          | 0/? [00:00<?, ?it/s]"
      ]
     },
     "metadata": {},
     "output_type": "display_data"
    },
    {
     "data": {
      "application/vnd.jupyter.widget-view+json": {
       "model_id": "9a2e73a7c2dc47409c472056a830946f",
       "version_major": 2,
       "version_minor": 0
      },
      "text/plain": [
       "Training: |          | 0/? [00:00<?, ?it/s]"
      ]
     },
     "metadata": {},
     "output_type": "display_data"
    },
    {
     "data": {
      "application/vnd.jupyter.widget-view+json": {
       "model_id": "ba2473bd18b14b2faab4b23f83765405",
       "version_major": 2,
       "version_minor": 0
      },
      "text/plain": [
       "Validation: |          | 0/? [00:00<?, ?it/s]"
      ]
     },
     "metadata": {},
     "output_type": "display_data"
    },
    {
     "data": {
      "application/vnd.jupyter.widget-view+json": {
       "model_id": "1d4f10b405cf4c72b762f64cc2244ceb",
       "version_major": 2,
       "version_minor": 0
      },
      "text/plain": [
       "Validation: |          | 0/? [00:00<?, ?it/s]"
      ]
     },
     "metadata": {},
     "output_type": "display_data"
    },
    {
     "data": {
      "application/vnd.jupyter.widget-view+json": {
       "model_id": "230fab94710c415ea06be8728d420e13",
       "version_major": 2,
       "version_minor": 0
      },
      "text/plain": [
       "Validation: |          | 0/? [00:00<?, ?it/s]"
      ]
     },
     "metadata": {},
     "output_type": "display_data"
    },
    {
     "data": {
      "application/vnd.jupyter.widget-view+json": {
       "model_id": "66e86eba2d1f4455b3ff32539ee950a8",
       "version_major": 2,
       "version_minor": 0
      },
      "text/plain": [
       "Validation: |          | 0/? [00:00<?, ?it/s]"
      ]
     },
     "metadata": {},
     "output_type": "display_data"
    },
    {
     "data": {
      "application/vnd.jupyter.widget-view+json": {
       "model_id": "dfbea392942c40138427ada3fbbd8b64",
       "version_major": 2,
       "version_minor": 0
      },
      "text/plain": [
       "Validation: |          | 0/? [00:00<?, ?it/s]"
      ]
     },
     "metadata": {},
     "output_type": "display_data"
    },
    {
     "name": "stderr",
     "output_type": "stream",
     "text": [
      "`Trainer.fit` stopped: `max_epochs=5` reached.\n",
      "GPU available: True (cuda), used: True\n",
      "TPU available: False, using: 0 TPU cores\n",
      "IPU available: False, using: 0 IPUs\n",
      "HPU available: False, using: 0 HPUs\n",
      "`Trainer(val_check_interval=1.0)` was configured so validation will run at the end of the training epoch..\n",
      "Missing logger folder: lightning_logs/tiny_vit_21m_224.dist_in22k_ft_in1k , poison 5 backbones, white box, 20000 poisons\n",
      "LOCAL_RANK: 0 - CUDA_VISIBLE_DEVICES: [0,1]\n",
      "\n",
      "  | Name      | Type               | Params\n",
      "-------------------------------------------------\n",
      "0 | encoder   | TinyVit            | 20.6 M\n",
      "1 | decoder   | Linear             | 36.9 K\n",
      "2 | classif   | Linear             | 2.8 K \n",
      "3 | criterion | CrossEntropyLoss   | 0     \n",
      "4 | metric    | MulticlassAccuracy | 0     \n",
      "-------------------------------------------------\n",
      "39.7 K    Trainable params\n",
      "20.6 M    Non-trainable params\n",
      "20.7 M    Total params\n",
      "82.645    Total estimated model params size (MB)\n"
     ]
    },
    {
     "data": {
      "application/vnd.jupyter.widget-view+json": {
       "model_id": "ea812687b14349aa82da99b8eff3f741",
       "version_major": 2,
       "version_minor": 0
      },
      "text/plain": [
       "Sanity Checking: |          | 0/? [00:00<?, ?it/s]"
      ]
     },
     "metadata": {},
     "output_type": "display_data"
    },
    {
     "data": {
      "application/vnd.jupyter.widget-view+json": {
       "model_id": "9072900599be4e25a0179dfd11087800",
       "version_major": 2,
       "version_minor": 0
      },
      "text/plain": [
       "Training: |          | 0/? [00:00<?, ?it/s]"
      ]
     },
     "metadata": {},
     "output_type": "display_data"
    },
    {
     "data": {
      "application/vnd.jupyter.widget-view+json": {
       "model_id": "913bc0aa027f4b5d8ba34b8032d8361e",
       "version_major": 2,
       "version_minor": 0
      },
      "text/plain": [
       "Validation: |          | 0/? [00:00<?, ?it/s]"
      ]
     },
     "metadata": {},
     "output_type": "display_data"
    },
    {
     "data": {
      "application/vnd.jupyter.widget-view+json": {
       "model_id": "94c5dfa35d8148b7b81ff210bffcf146",
       "version_major": 2,
       "version_minor": 0
      },
      "text/plain": [
       "Validation: |          | 0/? [00:00<?, ?it/s]"
      ]
     },
     "metadata": {},
     "output_type": "display_data"
    },
    {
     "data": {
      "application/vnd.jupyter.widget-view+json": {
       "model_id": "9f33c8459ac94fd9a81e7b6bbee8673c",
       "version_major": 2,
       "version_minor": 0
      },
      "text/plain": [
       "Validation: |          | 0/? [00:00<?, ?it/s]"
      ]
     },
     "metadata": {},
     "output_type": "display_data"
    },
    {
     "data": {
      "application/vnd.jupyter.widget-view+json": {
       "model_id": "9fb332b829084e8c80319dab1d98cb7e",
       "version_major": 2,
       "version_minor": 0
      },
      "text/plain": [
       "Validation: |          | 0/? [00:00<?, ?it/s]"
      ]
     },
     "metadata": {},
     "output_type": "display_data"
    },
    {
     "data": {
      "application/vnd.jupyter.widget-view+json": {
       "model_id": "0b72babc7cb64398a2c8206b5160693a",
       "version_major": 2,
       "version_minor": 0
      },
      "text/plain": [
       "Validation: |          | 0/? [00:00<?, ?it/s]"
      ]
     },
     "metadata": {},
     "output_type": "display_data"
    },
    {
     "name": "stderr",
     "output_type": "stream",
     "text": [
      "`Trainer.fit` stopped: `max_epochs=5` reached.\n",
      "GPU available: True (cuda), used: True\n",
      "TPU available: False, using: 0 TPU cores\n",
      "IPU available: False, using: 0 IPUs\n",
      "HPU available: False, using: 0 HPUs\n",
      "`Trainer(val_check_interval=1.0)` was configured so validation will run at the end of the training epoch..\n",
      "Missing logger folder: lightning_logs/tiny_vit_21m_224.dist_in22k_ft_in1k , poison 5 backbones, white box\n",
      "LOCAL_RANK: 0 - CUDA_VISIBLE_DEVICES: [0,1]\n",
      "\n",
      "  | Name      | Type               | Params\n",
      "-------------------------------------------------\n",
      "0 | encoder   | TinyVit            | 20.6 M\n",
      "1 | decoder   | Linear             | 36.9 K\n",
      "2 | classif   | Linear             | 2.8 K \n",
      "3 | criterion | CrossEntropyLoss   | 0     \n",
      "4 | metric    | MulticlassAccuracy | 0     \n",
      "-------------------------------------------------\n",
      "39.7 K    Trainable params\n",
      "20.6 M    Non-trainable params\n",
      "20.7 M    Total params\n",
      "82.645    Total estimated model params size (MB)\n"
     ]
    },
    {
     "data": {
      "application/vnd.jupyter.widget-view+json": {
       "model_id": "2c70466417fa4aee98c5374c3906a7d5",
       "version_major": 2,
       "version_minor": 0
      },
      "text/plain": [
       "Sanity Checking: |          | 0/? [00:00<?, ?it/s]"
      ]
     },
     "metadata": {},
     "output_type": "display_data"
    },
    {
     "data": {
      "application/vnd.jupyter.widget-view+json": {
       "model_id": "555f9ed368a1496e80a0ec6327cbf707",
       "version_major": 2,
       "version_minor": 0
      },
      "text/plain": [
       "Training: |          | 0/? [00:00<?, ?it/s]"
      ]
     },
     "metadata": {},
     "output_type": "display_data"
    },
    {
     "data": {
      "application/vnd.jupyter.widget-view+json": {
       "model_id": "55d2f0fc67cc42e7bfa8b1ac528e4213",
       "version_major": 2,
       "version_minor": 0
      },
      "text/plain": [
       "Validation: |          | 0/? [00:00<?, ?it/s]"
      ]
     },
     "metadata": {},
     "output_type": "display_data"
    },
    {
     "data": {
      "application/vnd.jupyter.widget-view+json": {
       "model_id": "480f850c4dc74425b2d49090801623c8",
       "version_major": 2,
       "version_minor": 0
      },
      "text/plain": [
       "Validation: |          | 0/? [00:00<?, ?it/s]"
      ]
     },
     "metadata": {},
     "output_type": "display_data"
    },
    {
     "data": {
      "application/vnd.jupyter.widget-view+json": {
       "model_id": "f1e89515eeed40be8a8d25819092389f",
       "version_major": 2,
       "version_minor": 0
      },
      "text/plain": [
       "Validation: |          | 0/? [00:00<?, ?it/s]"
      ]
     },
     "metadata": {},
     "output_type": "display_data"
    },
    {
     "data": {
      "application/vnd.jupyter.widget-view+json": {
       "model_id": "fec4b77202d34b94b62ea69d479b3ebb",
       "version_major": 2,
       "version_minor": 0
      },
      "text/plain": [
       "Validation: |          | 0/? [00:00<?, ?it/s]"
      ]
     },
     "metadata": {},
     "output_type": "display_data"
    },
    {
     "data": {
      "application/vnd.jupyter.widget-view+json": {
       "model_id": "973e86353d4c467a8a3e2615ab6da856",
       "version_major": 2,
       "version_minor": 0
      },
      "text/plain": [
       "Validation: |          | 0/? [00:00<?, ?it/s]"
      ]
     },
     "metadata": {},
     "output_type": "display_data"
    },
    {
     "name": "stderr",
     "output_type": "stream",
     "text": [
      "`Trainer.fit` stopped: `max_epochs=5` reached.\n"
     ]
    }
   ],
   "source": [
    "encoder_name = \"tiny_vit_21m_224.dist_in22k_ft_in1k\"\n",
    "os.environ[\"TENSORBOARD_BINARY\"]=\"/home/tordjx/DATA_DIR/code-envs/python/rapids/bin/tensorboard\"\n",
    "%reload_ext tensorboard\n",
    "%tensorboard --logdir=lightning_logs/\n",
    "#CLEAN\n",
    "train_dataset = CustomDataset(data_dir, train=True)#,poison_dir = \"/home/tordjx/DATA_DIR/managed_folders/TRANSFERABLECLEANDATAPOISONING/BqfvFGr8\")\n",
    "train_loader = DataLoader(train_dataset, batch_size=batch_size, shuffle=True, num_workers = 19  )\n",
    "encoder_freeze = True\n",
    "is_poisonned = \"poison\" if train_dataset.poison_dir != None else \"sans poison\"\n",
    "log_name = encoder_name + \" , \"+ is_poisonned+ \" 5 backbones, white box\" \n",
    "logger = TensorBoardLogger(\"lightning_logs/\", name=log_name)\n",
    "trainer = L.Trainer(max_epochs=5,val_check_interval = 1.0, devices = 1,logger=logger)\n",
    "classifier = ClassifierModel(encoder_name = encoder_name, encoder_freeze = encoder_freeze)\n",
    "trainer.fit(model=classifier, train_dataloaders=train_loader, val_dataloaders = test_loader)\n",
    "#10%\n",
    "train_dataset = CustomDataset(data_dir, train=True, poison_num = 4000,poison_dir = \"/home/tordjx/DATA_DIR/managed_folders/TRANSFERABLECLEANDATAPOISONING/BqfvFGr8\")\n",
    "train_loader = DataLoader(train_dataset, batch_size=batch_size, shuffle=True, num_workers = 19  )\n",
    "encoder_freeze = True\n",
    "is_poisonned = \"poison\" if train_dataset.poison_dir != None else \"sans poison\"\n",
    "log_name = encoder_name + \" , \"+ is_poisonned+ \" 5 backbones, white box, 4000 poisons\" \n",
    "logger = TensorBoardLogger(\"lightning_logs/\", name=log_name)\n",
    "trainer = L.Trainer(max_epochs=5,val_check_interval = 1.0, devices = 1,logger=logger)\n",
    "classifier = ClassifierModel(encoder_name = encoder_name, encoder_freeze = encoder_freeze)\n",
    "trainer.fit(model=classifier, train_dataloaders=train_loader, val_dataloaders = test_loader)\n",
    "#50%\n",
    "train_dataset = CustomDataset(data_dir, train=True, poison_num = 20000,poison_dir = \"/home/tordjx/DATA_DIR/managed_folders/TRANSFERABLECLEANDATAPOISONING/BqfvFGr8\")\n",
    "train_loader = DataLoader(train_dataset, batch_size=batch_size, shuffle=True, num_workers = 19  )\n",
    "encoder_freeze = True\n",
    "is_poisonned = \"poison\" if train_dataset.poison_dir != None else \"sans poison\"\n",
    "log_name = encoder_name + \" , \"+ is_poisonned+ \" 5 backbones, white box, 20000 poisons\" \n",
    "logger = TensorBoardLogger(\"lightning_logs/\", name=log_name)\n",
    "trainer = L.Trainer(max_epochs=5,val_check_interval = 1.0, devices = 1,logger=logger)\n",
    "classifier = ClassifierModel(encoder_name = encoder_name, encoder_freeze = encoder_freeze)\n",
    "trainer.fit(model=classifier, train_dataloaders=train_loader, val_dataloaders = test_loader)\n",
    "#100%\n",
    "train_dataset = CustomDataset(data_dir, train=True, poison_dir = \"/home/tordjx/DATA_DIR/managed_folders/TRANSFERABLECLEANDATAPOISONING/BqfvFGr8\")\n",
    "train_loader = DataLoader(train_dataset, batch_size=batch_size, shuffle=True, num_workers = 19  )\n",
    "encoder_freeze = True\n",
    "is_poisonned = \"poison\" if train_dataset.poison_dir != None else \"sans poison\"\n",
    "log_name = encoder_name + \" , \"+ is_poisonned+ \" 5 backbones, white box\" \n",
    "logger = TensorBoardLogger(\"lightning_logs/\", name=log_name)\n",
    "trainer = L.Trainer(max_epochs=5,val_check_interval = 1.0, devices = 1,logger=logger)\n",
    "classifier = ClassifierModel(encoder_name = encoder_name, encoder_freeze = encoder_freeze)\n",
    "trainer.fit(model=classifier, train_dataloaders=train_loader, val_dataloaders = test_loader)"
   ]
  },
  {
   "cell_type": "code",
   "execution_count": 4,
   "metadata": {},
   "outputs": [
    {
     "ename": "NameError",
     "evalue": "name 'gan' is not defined",
     "output_type": "error",
     "traceback": [
      "\u001b[0;31m---------------------------------------------------------------------------\u001b[0m",
      "\u001b[0;31mNameError\u001b[0m                                 Traceback (most recent call last)",
      "Cell \u001b[0;32mIn[4], line 3\u001b[0m\n\u001b[1;32m      1\u001b[0m image,y \u001b[38;5;241m=\u001b[39m \u001b[38;5;28mnext\u001b[39m(\u001b[38;5;28miter\u001b[39m(train_loader))\n\u001b[1;32m      2\u001b[0m \u001b[38;5;28;01mwith\u001b[39;00m torch\u001b[38;5;241m.\u001b[39mno_grad() : \n\u001b[0;32m----> 3\u001b[0m     perturb \u001b[38;5;241m=\u001b[39m \u001b[43mgan\u001b[49m\u001b[38;5;241m.\u001b[39mgenerator(image\u001b[38;5;241m.\u001b[39mcuda())\u001b[38;5;241m.\u001b[39mcpu() \n\u001b[1;32m      5\u001b[0m \u001b[38;5;28;01mfor\u001b[39;00m idx \u001b[38;5;129;01min\u001b[39;00m \u001b[38;5;28mrange\u001b[39m(\u001b[38;5;241m3\u001b[39m):\n\u001b[1;32m      7\u001b[0m     fig, ax \u001b[38;5;241m=\u001b[39m plt\u001b[38;5;241m.\u001b[39msubplots(\u001b[38;5;241m1\u001b[39m,\u001b[38;5;241m6\u001b[39m, figsize \u001b[38;5;241m=\u001b[39m (\u001b[38;5;241m30\u001b[39m,\u001b[38;5;241m5\u001b[39m))\n",
      "\u001b[0;31mNameError\u001b[0m: name 'gan' is not defined"
     ]
    }
   ],
   "source": [
    "image,y = next(iter(train_loader))\n",
    "with torch.no_grad() : \n",
    "    perturb = gan.generator(image.cuda()).cpu() \n",
    "\n",
    "for idx in range(3):\n",
    "    \n",
    "    fig, ax = plt.subplots(1,6, figsize = (30,5))\n",
    "    ax[0].imshow(perturb[idx].moveaxis(0,-1))\n",
    "    ax[0].set_title(\"Full perturbation\")\n",
    "    ax[1].imshow(perturb[idx][0])\n",
    "    ax[1].set_title(\"Red perturbation\")\n",
    "    ax[2].imshow(perturb[idx][1])\n",
    "    ax[2].set_title(\"Green perturbation\")\n",
    "    ax[3].imshow(perturb[idx][2])\n",
    "    ax[3].set_title(\"Blue perturbation\")\n",
    "    ax[4].imshow(image[idx].moveaxis(0,-1))\n",
    "    ax[4].set_title(\"Clean image\")\n",
    "    ax[5].imshow(perturb[idx].moveaxis(0,-1)+image[idx].moveaxis(0,-1))\n",
    "    ax[5].set_title(\"Image + perturbation\")\n",
    "    plt.show()"
   ]
  }
 ],
 "metadata": {
  "createdOn": 1704299570653,
  "creator": "admin",
  "customFields": {},
  "hide_input": false,
  "kernelspec": {
   "display_name": "Python (env rapids)",
   "language": "python",
   "name": "py-dku-venv-rapids"
  },
  "language_info": {
   "codemirror_mode": {
    "name": "ipython",
    "version": 3
   },
   "file_extension": ".py",
   "mimetype": "text/x-python",
   "name": "python",
   "nbconvert_exporter": "python",
   "pygments_lexer": "ipython3",
   "version": "3.10.12"
  },
  "modifiedBy": "admin",
  "tags": []
 },
 "nbformat": 4,
 "nbformat_minor": 1
}
